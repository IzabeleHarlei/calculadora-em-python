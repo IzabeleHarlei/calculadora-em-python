{
  "nbformat": 4,
  "nbformat_minor": 0,
  "metadata": {
    "colab": {
      "provenance": [],
      "authorship_tag": "ABX9TyMJjhH2CiiFftSsOznegETq",
      "include_colab_link": true
    },
    "kernelspec": {
      "name": "python3",
      "display_name": "Python 3"
    },
    "language_info": {
      "name": "python"
    }
  },
  "cells": [
    {
      "cell_type": "markdown",
      "metadata": {
        "id": "view-in-github",
        "colab_type": "text"
      },
      "source": [
        "<a href=\"https://colab.research.google.com/github/IzabeleHarlei/calculadora-em-python/blob/main/atividade_1_ci%C3%AAncia_de_dados.ipynb\" target=\"_parent\"><img src=\"https://colab.research.google.com/assets/colab-badge.svg\" alt=\"Open In Colab\"/></a>"
      ]
    },
    {
      "cell_type": "markdown",
      "source": [
        "Variável é um nome que se refere a um valor. Já a atribuição é um comando, o qual define-se como uma unidade de código que o interpretador pode executar."
      ],
      "metadata": {
        "id": "kqB32a2BpZex"
      }
    },
    {
      "cell_type": "markdown",
      "source": [
        "String(str): variáveis que constituem-se de texto\n",
        "Inteiro(int):variáveis que constituem-se de números inteiros\n",
        "Float:variáveis que constituem-se de números também decimais\n",
        "Boolean(bool):variáveis que constituem-se de exclusivamente \"true(verdadeiro)\" ou \"false(falso)\""
      ],
      "metadata": {
        "id": "Y_ZTm1ZVq2Lv"
      }
    },
    {
      "cell_type": "code",
      "source": [
        "print(\"Olá Mundo\")"
      ],
      "metadata": {
        "colab": {
          "base_uri": "https://localhost:8080/"
        },
        "id": "--vqCE9lr4iC",
        "outputId": "320feff1-03e9-470b-d93a-2bd2c304c1ab"
      },
      "execution_count": null,
      "outputs": [
        {
          "output_type": "stream",
          "name": "stdout",
          "text": [
            "Olá Mundo\n"
          ]
        }
      ]
    },
    {
      "cell_type": "markdown",
      "source": [
        "Com o comando \"input()\", independente da situação."
      ],
      "metadata": {
        "id": "qUfb61Jar7f0"
      }
    },
    {
      "cell_type": "code",
      "source": [],
      "metadata": {
        "id": "E-1NNQWdwq2L"
      },
      "execution_count": null,
      "outputs": []
    },
    {
      "cell_type": "code",
      "source": [
        "op = str(input(\"Qual a operação desejada?(multiplicação, adição, divisão, subtração) \"))\n",
        "x = float(input(\"Qual será o primeiro número? \"))\n",
        "y = float(input(\"E o segundo? \"))\n",
        "\n",
        "if op == \"multiplicação\":\n",
        "  mult = float( x * y)\n",
        "  print(mult)\n",
        "elif op == \"divisão\":\n",
        "  if y != 0:\n",
        "    div = float( x / y)\n",
        "    print(div)\n",
        "  else:\n",
        "   print(\"Não é possível realizar divisões por 0\")\n",
        "elif op == \"adição\":\n",
        "  soma = float( x + y)\n",
        "  print(soma)\n",
        "else :\n",
        "  subt = float( x - y)\n",
        "  print(subt)"
      ],
      "metadata": {
        "colab": {
          "base_uri": "https://localhost:8080/"
        },
        "outputId": "72e1e8b0-ec19-44cc-e109-7bb65c489552",
        "id": "IxEZAfL5wrPG"
      },
      "execution_count": 19,
      "outputs": [
        {
          "output_type": "stream",
          "name": "stdout",
          "text": [
            "Qual a operação desejada?(multiplicação, adição, divisão, subtração) divisão\n",
            "Qual será o primeiro número? 3\n",
            "E o segundo? 0\n",
            "Não é possível realizar divisões por 0\n"
          ]
        }
      ]
    },
    {
      "cell_type": "code",
      "source": [
        "x = int(input(\"Qual o último número da placa do seu carro? \" ))\n",
        "\n",
        "if x == 1 or x == 2:\n",
        "  print(\"Seu veículo pode circular apenas às segundas-feiras.\")\n",
        "\n",
        "elif x == 3 or x == 4:\n",
        "  print(\"Seu veículo pode circular apenas às terças-feiras.\")\n",
        "\n",
        "elif x == 5 or x == 6:\n",
        "  print(\"Seu veículo pode circular apenas às quartas-feiras.\")\n",
        "\n",
        "elif x == 7 or x == 8:\n",
        "  print(\"Seu veículo pode circular apenas às quintas-feiras.\")\n",
        "\n",
        "else:\n",
        "  print(\"Seu veículo pode circular apenas às sextas-feiras.\")"
      ],
      "metadata": {
        "colab": {
          "base_uri": "https://localhost:8080/"
        },
        "id": "b6dOhkPulWU2",
        "outputId": "1fe21d5c-a718-4e29-e81a-ddad12de7a21"
      },
      "execution_count": null,
      "outputs": [
        {
          "output_type": "stream",
          "name": "stdout",
          "text": [
            "Qual o último número da placa do seu carro? 5\n",
            "Seu veículo pode circular apenas às quartas-feiras.\n"
          ]
        }
      ]
    }
  ]
}